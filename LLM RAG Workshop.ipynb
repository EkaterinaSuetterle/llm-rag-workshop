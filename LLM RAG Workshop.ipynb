{
 "cells": [
  {
   "cell_type": "code",
   "execution_count": 1,
   "id": "82db3159-08d3-4add-ba49-2ee121d555fb",
   "metadata": {},
   "outputs": [],
   "source": [
    "import openai\n",
    "import elasticsearch"
   ]
  },
  {
   "cell_type": "code",
   "execution_count": 2,
   "id": "6b8f8080-aa71-4690-9fc2-379cf3e802e6",
   "metadata": {},
   "outputs": [
    {
     "name": "stdout",
     "output_type": "stream",
     "text": [
      "--2024-06-25 08:22:02--  https://github.com/alexeygrigorev/llm-rag-workshop/raw/main/notebooks/documents.json\n",
      "Resolving github.com (github.com)... 140.82.121.4\n",
      "Connecting to github.com (github.com)|140.82.121.4|:443... connected.\n",
      "HTTP request sent, awaiting response... 302 Found\n",
      "Location: https://raw.githubusercontent.com/alexeygrigorev/llm-rag-workshop/main/notebooks/documents.json [following]\n",
      "--2024-06-25 08:22:02--  https://raw.githubusercontent.com/alexeygrigorev/llm-rag-workshop/main/notebooks/documents.json\n",
      "Resolving raw.githubusercontent.com (raw.githubusercontent.com)... 185.199.110.133, 185.199.111.133, 185.199.108.133, ...\n",
      "Connecting to raw.githubusercontent.com (raw.githubusercontent.com)|185.199.110.133|:443... connected.\n",
      "HTTP request sent, awaiting response... 200 OK\n",
      "Length: 658332 (643K) [text/plain]\n",
      "Saving to: ‘documents.json’\n",
      "\n",
      "documents.json      100%[===================>] 642.90K  --.-KB/s    in 0.02s   \n",
      "\n",
      "2024-06-25 08:22:02 (33.1 MB/s) - ‘documents.json’ saved [658332/658332]\n",
      "\n"
     ]
    }
   ],
   "source": [
    "!wget https://github.com/alexeygrigorev/llm-rag-workshop/raw/main/notebooks/documents.json"
   ]
  },
  {
   "cell_type": "code",
   "execution_count": 3,
   "id": "806aa59e-5aa7-4c38-a86b-b52a9df8dc41",
   "metadata": {},
   "outputs": [],
   "source": [
    "import json"
   ]
  },
  {
   "cell_type": "code",
   "execution_count": 4,
   "id": "88f4928f-e9c3-4de8-9a5a-80299ba51e05",
   "metadata": {},
   "outputs": [],
   "source": [
    "with open('./documents.json', 'rt') as f_in:\n",
    "    documents_all = json.load(f_in)"
   ]
  },
  {
   "cell_type": "code",
   "execution_count": 7,
   "id": "9ba41c1d-fe41-4686-9f6b-22be115840c5",
   "metadata": {},
   "outputs": [
    {
     "data": {
      "text/plain": [
       "{'text': \"The purpose of this document is to capture frequently asked technical questions\\nThe exact day and hour of the course will be 15th Jan 2024 at 17h00. The course will start with the first  “Office Hours'' live.1\\nSubscribe to course public Google Calendar (it works from Desktop only).\\nRegister before the course starts using this link.\\nJoin the course Telegram channel with announcements.\\nDon’t forget to register in DataTalks.Club's Slack and join the channel.\",\n",
       " 'section': 'General course-related questions',\n",
       " 'question': 'Course - When will the course start?'}"
      ]
     },
     "execution_count": 7,
     "metadata": {},
     "output_type": "execute_result"
    }
   ],
   "source": [
    "documents_all[0]['documents'][0]"
   ]
  },
  {
   "cell_type": "code",
   "execution_count": 9,
   "id": "a59ff1b4-f8c6-4ec4-aba5-78f1cad444c1",
   "metadata": {},
   "outputs": [],
   "source": [
    "documents = []\n",
    "\n",
    "for course in documents_all:\n",
    "    course_name = course['course']\n",
    "\n",
    "    for doc in course['documents']:\n",
    "        doc['course'] = course_name\n",
    "        documents.append(doc)"
   ]
  },
  {
   "cell_type": "code",
   "execution_count": 10,
   "id": "f0b7bd30-6c45-45f4-a53a-12b1e48e71f8",
   "metadata": {},
   "outputs": [
    {
     "data": {
      "text/plain": [
       "948"
      ]
     },
     "execution_count": 10,
     "metadata": {},
     "output_type": "execute_result"
    }
   ],
   "source": [
    "len(documents)"
   ]
  },
  {
   "cell_type": "code",
   "execution_count": 13,
   "id": "c06111c8-86f7-49eb-bd6d-48c996072316",
   "metadata": {},
   "outputs": [
    {
     "data": {
      "text/plain": [
       "{'text': \"You don't need it. You're accepted. You can also just start learning and submitting homework without registering. It is not checked against any registered list. Registration is just to gauge interest before the start date.\",\n",
       " 'section': 'General course-related questions',\n",
       " 'question': 'Course - I have registered for the Data Engineering Bootcamp. When can I expect to receive the confirmation email?',\n",
       " 'course': 'data-engineering-zoomcamp'}"
      ]
     },
     "execution_count": 13,
     "metadata": {},
     "output_type": "execute_result"
    }
   ],
   "source": [
    "documents[3]"
   ]
  },
  {
   "cell_type": "code",
   "execution_count": 15,
   "id": "054ab5e5-c478-440a-80e2-d1dfa590bd2f",
   "metadata": {},
   "outputs": [],
   "source": [
    "from elasticsearch import Elasticsearch"
   ]
  },
  {
   "cell_type": "code",
   "execution_count": 16,
   "id": "e12f6532-d69b-4d70-a4fe-cd2f9cc2bc99",
   "metadata": {},
   "outputs": [],
   "source": [
    "# Starting an Elasticsearch instance (connecting to our existing one)\n",
    "es_client = Elasticsearch(hosts = ['http://localhost:9200'])"
   ]
  },
  {
   "cell_type": "code",
   "execution_count": 17,
   "id": "6748d2a5-7a9d-4b49-b624-3b081d96fbba",
   "metadata": {},
   "outputs": [
    {
     "data": {
      "text/plain": [
       "ObjectApiResponse({'name': '54db729ef7cd', 'cluster_name': 'docker-cluster', 'cluster_uuid': 'feMkOA19S1aKyxyx-D9aCg', 'version': {'number': '8.4.3', 'build_flavor': 'default', 'build_type': 'docker', 'build_hash': '42f05b9372a9a4a470db3b52817899b99a76ee73', 'build_date': '2022-10-04T07:17:24.662462378Z', 'build_snapshot': False, 'lucene_version': '9.3.0', 'minimum_wire_compatibility_version': '7.17.0', 'minimum_index_compatibility_version': '7.0.0'}, 'tagline': 'You Know, for Search'})"
      ]
     },
     "execution_count": 17,
     "metadata": {},
     "output_type": "execute_result"
    }
   ],
   "source": [
    "es_client.info()"
   ]
  },
  {
   "cell_type": "code",
   "execution_count": 18,
   "id": "fce30cb1-3003-4aef-93a3-fb0b5e73bc1d",
   "metadata": {},
   "outputs": [
    {
     "data": {
      "text/plain": [
       "ObjectApiResponse({'acknowledged': True, 'shards_acknowledged': True, 'index': 'course-questions'})"
      ]
     },
     "execution_count": 18,
     "metadata": {},
     "output_type": "execute_result"
    }
   ],
   "source": [
    "# creating an index in ElasticSearch\n",
    "# We want to filter on the course attribute like \"Select * From ... Where course = 'xxx' \"\n",
    "\n",
    "index_settings = {\n",
    "    \"settings\": {\n",
    "        # Kind a cluster in elastic search\n",
    "        \"number_of_shards\": 1,\n",
    "        \"number_of_replicas\": 0\n",
    "    },\n",
    "    \"mappings\": {\n",
    "        \"properties\": {\n",
    "            \"text\": {\"type\": \"text\"},\n",
    "            \"section\": {\"type\": \"text\"},\n",
    "            # we want to break s text into separate words\n",
    "            \"question\": {\"type\": \"text\"},\n",
    "            # the ability to filter on this\n",
    "            \"course\": {\"type\": \"keyword\"} \n",
    "        }\n",
    "    }\n",
    "}\n",
    "\n",
    "index_name = \"course-questions\"\n",
    "response = es_client.indices.create(index=index_name, body=index_settings)\n",
    "\n",
    "response"
   ]
  },
  {
   "cell_type": "code",
   "execution_count": 19,
   "id": "5ee67ef0-6e8d-4292-bdf2-8bc7858d55e1",
   "metadata": {},
   "outputs": [
    {
     "name": "stderr",
     "output_type": "stream",
     "text": [
      "/usr/local/python/3.10.13/lib/python3.10/site-packages/tqdm/auto.py:21: TqdmWarning: IProgress not found. Please update jupyter and ipywidgets. See https://ipywidgets.readthedocs.io/en/stable/user_install.html\n",
      "  from .autonotebook import tqdm as notebook_tqdm\n"
     ]
    }
   ],
   "source": [
    "from tqdm.auto import tqdm"
   ]
  },
  {
   "cell_type": "code",
   "execution_count": 21,
   "id": "723f3153-14f2-4b6c-95e0-0d52918dae3d",
   "metadata": {},
   "outputs": [
    {
     "name": "stderr",
     "output_type": "stream",
     "text": [
      "100%|██████████████████████████████████████████████████████████████████████████████████████████| 948/948 [00:24<00:00, 39.02it/s]\n"
     ]
    }
   ],
   "source": [
    "for doc in tqdm(documents):\n",
    "    es_client.index(index=index_name, document=doc)"
   ]
  },
  {
   "cell_type": "code",
   "execution_count": 23,
   "id": "9b98c1c9-f06d-4273-a227-7d073973286f",
   "metadata": {},
   "outputs": [],
   "source": [
    "query = \"I just discovered th ecourse. can I still join?\"\n",
    "\n",
    "# It is by default case insensetive\n",
    "# There are other analyzers, which we can use for case sensitive problems (where we need it)"
   ]
  },
  {
   "cell_type": "code",
   "execution_count": 24,
   "id": "a23c9baf-ea54-430d-80ce-35b84af5d5a7",
   "metadata": {},
   "outputs": [],
   "source": [
    "search_query = {\n",
    "    # retrieves top 5\n",
    "    \"size\": 5,\n",
    "    \"query\": {\n",
    "        \"bool\": {\n",
    "            # There are must and should queries in elastic search\n",
    "            # In our case we take one of them\n",
    "            \"must\": {\n",
    "                # We have 3 field in this case, where the search query can be included\n",
    "                # The HAT 3 means that the question is 3 times more important than other sections (^3).\n",
    "                ## So firstly it will search the question sectionand then the other ones, also called BOOST\n",
    "                \"multi_match\": {\n",
    "                    \"query\": query,\n",
    "                    \"fields\": [\"question^3\", \"text\", \"section\"],\n",
    "                    # Here it will take a hogh score for the fields it found\n",
    "                    \"type\": \"best_fields\"\n",
    "                }\n",
    "            },\n",
    "            \"filter\": {\n",
    "                \"term\": {\n",
    "                    # here we only consider documents of this course\n",
    "                    \"course\": \"data-engineering-zoomcamp\"\n",
    "                }\n",
    "            }\n",
    "        }\n",
    "    }\n",
    "}"
   ]
  },
  {
   "cell_type": "code",
   "execution_count": 25,
   "id": "3968f49c-4b46-458a-8b72-b605440ba135",
   "metadata": {},
   "outputs": [],
   "source": [
    "response = es_client.search(index=index_name, body=search_query)"
   ]
  },
  {
   "cell_type": "code",
   "execution_count": 27,
   "id": "63118e50-a055-4d27-8a95-cc9b6e9cb908",
   "metadata": {},
   "outputs": [
    {
     "data": {
      "text/plain": [
       "{'total': {'value': 470, 'relation': 'eq'},\n",
       " 'max_score': 53.894825,\n",
       " 'hits': [{'_index': 'course-questions',\n",
       "   '_id': 'avuGTpAB9aNjXEtHMxKX',\n",
       "   '_score': 53.894825,\n",
       "   '_source': {'text': \"Yes, even if you don't register, you're still eligible to submit the homeworks.\\nBe aware, however, that there will be deadlines for turning in the final projects. So don't leave everything for the last minute.\",\n",
       "    'section': 'General course-related questions',\n",
       "    'question': 'Course - Can I still join the course after the start date?',\n",
       "    'course': 'data-engineering-zoomcamp'}},\n",
       "  {'_index': 'course-questions',\n",
       "   '_id': 'HvuHTpAB9aNjXEtHLhbJ',\n",
       "   '_score': 53.894825,\n",
       "   '_source': {'text': \"Yes, even if you don't register, you're still eligible to submit the homeworks.\\nBe aware, however, that there will be deadlines for turning in the final projects. So don't leave everything for the last minute.\",\n",
       "    'section': 'General course-related questions',\n",
       "    'question': 'Course - Can I still join the course after the start date?',\n",
       "    'course': 'data-engineering-zoomcamp'}},\n",
       "  {'_index': 'course-questions',\n",
       "   '_id': 'cPuGTpAB9aNjXEtHNBIq',\n",
       "   '_score': 25.198689,\n",
       "   '_source': {'text': 'Yes, the slack channel remains open and you can ask questions there. But always sDocker containers exit code w search the channel first and second, check the FAQ (this document), most likely all your questions are already answered here.\\nYou can also tag the bot @ZoomcampQABot to help you conduct the search, but don’t rely on its answers 100%, it is pretty good though.',\n",
       "    'section': 'General course-related questions',\n",
       "    'question': 'Course - Can I get support if I take the course in the self-paced mode?',\n",
       "    'course': 'data-engineering-zoomcamp'}},\n",
       "  {'_index': 'course-questions',\n",
       "   '_id': 'JPuHTpAB9aNjXEtHLxZz',\n",
       "   '_score': 25.198689,\n",
       "   '_source': {'text': 'Yes, the slack channel remains open and you can ask questions there. But always sDocker containers exit code w search the channel first and second, check the FAQ (this document), most likely all your questions are already answered here.\\nYou can also tag the bot @ZoomcampQABot to help you conduct the search, but don’t rely on its answers 100%, it is pretty good though.',\n",
       "    'section': 'General course-related questions',\n",
       "    'question': 'Course - Can I get support if I take the course in the self-paced mode?',\n",
       "    'course': 'data-engineering-zoomcamp'}},\n",
       "  {'_index': 'course-questions',\n",
       "   '_id': 'bPuGTpAB9aNjXEtHMxLF',\n",
       "   '_score': 24.988886,\n",
       "   '_source': {'text': 'You can start by installing and setting up all the dependencies and requirements:\\nGoogle cloud account\\nGoogle Cloud SDK\\nPython 3 (installed with Anaconda)\\nTerraform\\nGit\\nLook over the prerequisites and syllabus to see if you are comfortable with these subjects.',\n",
       "    'section': 'General course-related questions',\n",
       "    'question': 'Course - What can I do before the course starts?',\n",
       "    'course': 'data-engineering-zoomcamp'}}]}"
      ]
     },
     "execution_count": 27,
     "metadata": {},
     "output_type": "execute_result"
    }
   ],
   "source": [
    "response['hits']"
   ]
  },
  {
   "cell_type": "code",
   "execution_count": 29,
   "id": "cd94870a-1e0c-49f9-b7cb-6e25a6dab560",
   "metadata": {},
   "outputs": [
    {
     "name": "stdout",
     "output_type": "stream",
     "text": [
      "Section: General course-related questions\n",
      "Question: Course - Can I still join the course after the start date?\n",
      "Answer: Yes, even if you don't register, you're still eligible to su...\n",
      "\n",
      "Section: General course-related questions\n",
      "Question: Course - Can I still join the course after the start date?\n",
      "Answer: Yes, even if you don't register, you're still eligible to su...\n",
      "\n",
      "Section: General course-related questions\n",
      "Question: Course - Can I get support if I take the course in the self-paced mode?\n",
      "Answer: Yes, the slack channel remains open and you can ask question...\n",
      "\n",
      "Section: General course-related questions\n",
      "Question: Course - Can I get support if I take the course in the self-paced mode?\n",
      "Answer: Yes, the slack channel remains open and you can ask question...\n",
      "\n",
      "Section: General course-related questions\n",
      "Question: Course - What can I do before the course starts?\n",
      "Answer: You can start by installing and setting up all the dependenc...\n",
      "\n"
     ]
    }
   ],
   "source": [
    "# Now we clean the output so that it's more fancy and readable\n",
    "\n",
    "relevant_docs = []\n",
    "\n",
    "for hit in response['hits']['hits']:\n",
    "    doc = hit['_source']\n",
    "    relevant_docs.append(doc)\n",
    "    print(f\"Section: {doc['section']}\")\n",
    "    print(f\"Question: {doc['question']}\")\n",
    "    print(f\"Answer: {doc['text'][:60]}...\\n\")"
   ]
  },
  {
   "cell_type": "code",
   "execution_count": 30,
   "id": "326c9dbd-dcb9-42c9-ac76-4fda12844e37",
   "metadata": {},
   "outputs": [
    {
     "data": {
      "text/plain": [
       "[{'text': \"Yes, even if you don't register, you're still eligible to submit the homeworks.\\nBe aware, however, that there will be deadlines for turning in the final projects. So don't leave everything for the last minute.\",\n",
       "  'section': 'General course-related questions',\n",
       "  'question': 'Course - Can I still join the course after the start date?',\n",
       "  'course': 'data-engineering-zoomcamp'},\n",
       " {'text': \"Yes, even if you don't register, you're still eligible to submit the homeworks.\\nBe aware, however, that there will be deadlines for turning in the final projects. So don't leave everything for the last minute.\",\n",
       "  'section': 'General course-related questions',\n",
       "  'question': 'Course - Can I still join the course after the start date?',\n",
       "  'course': 'data-engineering-zoomcamp'},\n",
       " {'text': 'Yes, the slack channel remains open and you can ask questions there. But always sDocker containers exit code w search the channel first and second, check the FAQ (this document), most likely all your questions are already answered here.\\nYou can also tag the bot @ZoomcampQABot to help you conduct the search, but don’t rely on its answers 100%, it is pretty good though.',\n",
       "  'section': 'General course-related questions',\n",
       "  'question': 'Course - Can I get support if I take the course in the self-paced mode?',\n",
       "  'course': 'data-engineering-zoomcamp'},\n",
       " {'text': 'Yes, the slack channel remains open and you can ask questions there. But always sDocker containers exit code w search the channel first and second, check the FAQ (this document), most likely all your questions are already answered here.\\nYou can also tag the bot @ZoomcampQABot to help you conduct the search, but don’t rely on its answers 100%, it is pretty good though.',\n",
       "  'section': 'General course-related questions',\n",
       "  'question': 'Course - Can I get support if I take the course in the self-paced mode?',\n",
       "  'course': 'data-engineering-zoomcamp'},\n",
       " {'text': 'You can start by installing and setting up all the dependencies and requirements:\\nGoogle cloud account\\nGoogle Cloud SDK\\nPython 3 (installed with Anaconda)\\nTerraform\\nGit\\nLook over the prerequisites and syllabus to see if you are comfortable with these subjects.',\n",
       "  'section': 'General course-related questions',\n",
       "  'question': 'Course - What can I do before the course starts?',\n",
       "  'course': 'data-engineering-zoomcamp'}]"
      ]
     },
     "execution_count": 30,
     "metadata": {},
     "output_type": "execute_result"
    }
   ],
   "source": [
    "relevant_docs"
   ]
  },
  {
   "cell_type": "code",
   "execution_count": null,
   "id": "79cfe3e1-d80e-466a-afdb-c885e047acc3",
   "metadata": {},
   "outputs": [],
   "source": []
  },
  {
   "cell_type": "code",
   "execution_count": null,
   "id": "2b136f5b-24a3-4222-ad71-fc8dfc8c5fd7",
   "metadata": {},
   "outputs": [],
   "source": []
  },
  {
   "cell_type": "code",
   "execution_count": null,
   "id": "727aa7d4-f8bb-4f4c-831f-4143f25f43e6",
   "metadata": {},
   "outputs": [],
   "source": []
  }
 ],
 "metadata": {
  "kernelspec": {
   "display_name": "Python 3 (ipykernel)",
   "language": "python",
   "name": "python3"
  },
  "language_info": {
   "codemirror_mode": {
    "name": "ipython",
    "version": 3
   },
   "file_extension": ".py",
   "mimetype": "text/x-python",
   "name": "python",
   "nbconvert_exporter": "python",
   "pygments_lexer": "ipython3",
   "version": "3.10.13"
  }
 },
 "nbformat": 4,
 "nbformat_minor": 5
}
